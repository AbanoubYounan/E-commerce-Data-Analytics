{
  "nbformat": 4,
  "nbformat_minor": 0,
  "metadata": {
    "colab": {
      "provenance": [],
      "toc_visible": true
    },
    "kernelspec": {
      "name": "python3",
      "display_name": "Python 3"
    },
    "language_info": {
      "name": "python"
    }
  },
  "cells": [
    {
      "cell_type": "markdown",
      "source": [
        "**Capstone Project: E-commerce Sales Analysis**\n",
        "\n",
        "**Team 1** - Sprints Bootcamp\n",
        "\n",
        "**Team Members:**\n",
        "  * Menna Mohamed\n",
        "  * Dina Fakhry\n",
        "  * Abanoub Younan\n",
        "  * Karen Emad\n",
        "  * Basel Amr\n",
        "  * Ahmed Hesham\n",
        "\n",
        "**Date: 2024-12-27**"
      ],
      "metadata": {
        "id": "J9L1SypLkzJh"
      }
    },
    {
      "cell_type": "markdown",
      "source": [
        "**Table of Content**\n",
        "\n",
        " 1. Introduction\n",
        " 2. Setting Up the Environment\n",
        " 3. Task 1: Data Cleaning\n",
        " 4. Task 2: Exploratory Data Analysis (EDA)\n",
        " 5. Task 3: Time Series Analysis\n",
        " 6. Task 4: RFM Analysis (Customer Segmentation)\n",
        " 7. Task 5: Product Category Analysis\n",
        " 8. Task 6: Geographical Analysis\n",
        " 9. Task 7: Customer Behavior Analysis\n",
        " 10. Task 8: Moving Average Forecast\n",
        " 11. Task 9: Summary Dashboard Creation\n",
        " 12. Task 10: Optimize Data Processing\n",
        " 13. Task 11: Report Generation\n",
        " 14. Conclusion\n",
        " 15. References"
      ],
      "metadata": {
        "id": "ffgr8Vbfleuz"
      }
    },
    {
      "cell_type": "markdown",
      "source": [
        "# 📝 **1. Introduction & Objective**\n",
        "**Overview:**\n",
        "\n",
        "This project focuses on analyzing an e-commerce sales dataset to extract meaningful insights, optimize business strategies, and improve customer engagement. The analysis will cover data cleaning, customer segmentation, time-series forecasting, and performance visualization.\n",
        "\n",
        "**Objectives:**\n",
        "- Clean and preprocess raw data for accurate analysis.\n",
        "- Perform descriptive and exploratory data analysis (EDA) to uncover trends.\n",
        "- Segment customers using RFM analysis to identify key customer groups.\n",
        "- Analyze sales trends across different time periods.\n",
        "- Forecast future sales using moving average techniques.\n",
        "- Present insights through interactive dashboards and visualizations.\n",
        "\n",
        "**Dataset Description:**\n",
        "\n",
        "The dataset includes transactional data from an online retail store. Key columns include:\n",
        "- `InvoiceNo`: Unique invoice number for each transaction.\n",
        "- `StockCode`: Product identifier.\n",
        "- `Description`: Product description.\n",
        "- `Quantity`: Number of units purchased.\n",
        "- `InvoiceDate`: Date and time of purchase.\n",
        "- `UnitPrice`: Price per unit of product.\n",
        "- `CustomerID`: Unique customer identifier.\n",
        "- `Country`: Country where the purchase was made."
      ],
      "metadata": {
        "id": "cqsMx9uLsfoT"
      }
    },
    {
      "cell_type": "markdown",
      "source": [
        "# 🚀 **2. Setting Up the Environment**"
      ],
      "metadata": {
        "id": "0jHJa-BQtq8X"
      }
    },
    {
      "cell_type": "markdown",
      "source": [
        "## 2.1 Import Necessary libraries"
      ],
      "metadata": {
        "id": "w4G4CIhNty7a"
      }
    },
    {
      "cell_type": "code",
      "source": [],
      "metadata": {
        "id": "WmtdxAvUsXxp"
      },
      "execution_count": null,
      "outputs": []
    },
    {
      "cell_type": "markdown",
      "source": [
        "## 2.2 Load the dataSet"
      ],
      "metadata": {
        "id": "eCJSj7sBt0LL"
      }
    },
    {
      "cell_type": "code",
      "source": [],
      "metadata": {
        "id": "Nvukl26xt3aN"
      },
      "execution_count": null,
      "outputs": []
    },
    {
      "cell_type": "markdown",
      "source": [
        "# 📌 **3. Task 1 : Data Cleaning**\n",
        "**Description**: Clean and preprocess the dataset by handling missing values, formatting data types, and removing incorrect records.\n",
        "\n",
        "**Requirments**:\n",
        "- Handle missing values in `CustomerID`\n",
        "- Convert `InvoiceDate` to DateTime type\n",
        "- Remove rows with negative `Quantity` or UnitPrice\n",
        "- Create a `TotalPrice` column\n",
        "\n",
        "**Responsible:**\n"
      ],
      "metadata": {
        "id": "Lzg3QUtDuU2u"
      }
    },
    {
      "cell_type": "markdown",
      "source": [
        "##**3.1 Hanle missing values with `CustomerID`**"
      ],
      "metadata": {
        "id": "CoT0HMbXCZ0-"
      }
    },
    {
      "cell_type": "code",
      "source": [],
      "metadata": {
        "id": "oy6zm-E2DaC_"
      },
      "execution_count": null,
      "outputs": []
    },
    {
      "cell_type": "markdown",
      "source": [
        "##**3.2 Convert `InvoiceDate` to DateTime type**\n"
      ],
      "metadata": {
        "id": "JMRSx7UOCiBA"
      }
    },
    {
      "cell_type": "code",
      "source": [],
      "metadata": {
        "id": "I2_bYIPODanR"
      },
      "execution_count": null,
      "outputs": []
    },
    {
      "cell_type": "markdown",
      "source": [
        "\n",
        "##**3.3 Remove rows with negative `Quantity` or UnitPrice**\n"
      ],
      "metadata": {
        "id": "a2NHcpl9Cpve"
      }
    },
    {
      "cell_type": "code",
      "source": [],
      "metadata": {
        "id": "Y8g-eK6evAnB"
      },
      "execution_count": null,
      "outputs": []
    },
    {
      "cell_type": "markdown",
      "source": [
        "\n",
        "##**3.4 Create a `TotalPrice` column**"
      ],
      "metadata": {
        "id": "vp0O3ZBqDbYA"
      }
    },
    {
      "cell_type": "code",
      "source": [],
      "metadata": {
        "id": "-Ih2ngTqDbLf"
      },
      "execution_count": null,
      "outputs": []
    },
    {
      "cell_type": "markdown",
      "source": [
        "# 📌 **4. Task 2 : Exploratory Data Analysis (EDA)**\n",
        "**Description**: Perform basic descriptive statistics and identify insights from the dataset. Analyze top-selling products and calculate total revenue and transactions.values. You will also check the data types of each column to understand how the data is structured.\n",
        "\n",
        "**Requirments**:\n",
        "-  Use `.describe()` for statistical summary.\n",
        "- Identify top 10 selling products by `Quantity`.\n",
        "- Calculate `total revenue` and number of `transactions`.\n",
        "\n",
        "**Responsible:**\n"
      ],
      "metadata": {
        "id": "fZN0QklDv60n"
      }
    },
    {
      "cell_type": "markdown",
      "source": [
        "## 4.1 **`.describe()` for statistical summary.**"
      ],
      "metadata": {
        "id": "kF-I4pgiDirU"
      }
    },
    {
      "cell_type": "code",
      "source": [],
      "metadata": {
        "id": "zW5YXU96DzYV"
      },
      "execution_count": null,
      "outputs": []
    },
    {
      "cell_type": "markdown",
      "source": [
        "##4.2 **Identify top 10 selling products by `Quantity`.**\n"
      ],
      "metadata": {
        "id": "rTeugHKmDikj"
      }
    },
    {
      "cell_type": "code",
      "source": [],
      "metadata": {
        "id": "-qS8xjeXDzyI"
      },
      "execution_count": null,
      "outputs": []
    },
    {
      "cell_type": "markdown",
      "source": [
        "\n",
        "##**4.3 Calculate `total revenue` and number of `transactions`.**"
      ],
      "metadata": {
        "id": "3icC7ZdODibE"
      }
    },
    {
      "cell_type": "code",
      "source": [],
      "metadata": {
        "id": "w_tELRkE-Ic-"
      },
      "execution_count": null,
      "outputs": []
    },
    {
      "cell_type": "markdown",
      "source": [
        "# 📌 **5. Task 3 : Time Series Analysis**\n",
        "**Description**: Analyze sales trends over time and visualize monthly sales. Identify months with highest and lowest sales.\n",
        "\n",
        "**Requirments**:\n",
        "-  Resample the data to obtain monthly sales\n",
        "-  Plot monthly sales trends using a line plot.\n",
        "-  Identify the month with the highest and lowest sales.\n",
        "\n",
        "**Responsible:**\n"
      ],
      "metadata": {
        "id": "1Dn8TLwv-UDJ"
      }
    },
    {
      "cell_type": "code",
      "source": [],
      "metadata": {
        "id": "JcIkyhOU-k_Q"
      },
      "execution_count": null,
      "outputs": []
    },
    {
      "cell_type": "markdown",
      "source": [
        "# 📌 **6. Task 4 : RFM Analysis (Customer Segmentation)**\n",
        "**Description**: Segment customers based on recency, frequency, and monetary value. Visualize customer distribution in segments.\n",
        "\n",
        "**Requirments**:\n",
        "-  Calculate recency (days since last purchase).\n",
        "-  Calculate frequency (number of purchases).\n",
        "-  Calculate monetary value (total spend).\n",
        "-  Segment customers into High, Medium, Low-value groups.\n",
        "\n",
        "**Responsible:**\n"
      ],
      "metadata": {
        "id": "y8SWC4Xc-mM0"
      }
    },
    {
      "cell_type": "markdown",
      "source": [
        "##**6.1 Calculate recency (days since last purchase).**"
      ],
      "metadata": {
        "id": "9vtwUslvD5Vp"
      }
    },
    {
      "cell_type": "code",
      "source": [],
      "metadata": {
        "id": "uAwV3Dv7EpfD"
      },
      "execution_count": null,
      "outputs": []
    },
    {
      "cell_type": "markdown",
      "source": [
        "\n",
        "## **6.2 Calculate frequency (number of purchases).**\n"
      ],
      "metadata": {
        "id": "2_xqLAl1D5O3"
      }
    },
    {
      "cell_type": "code",
      "source": [],
      "metadata": {
        "id": "WVGXPLeKEp0Z"
      },
      "execution_count": null,
      "outputs": []
    },
    {
      "cell_type": "markdown",
      "source": [
        "\n",
        "## **6.3 Calculate monetary value (total spend).**"
      ],
      "metadata": {
        "id": "2d0FNn02D5HP"
      }
    },
    {
      "cell_type": "code",
      "source": [],
      "metadata": {
        "id": "DNKYx5eaEqGr"
      },
      "execution_count": null,
      "outputs": []
    },
    {
      "cell_type": "markdown",
      "source": [
        "\n",
        "## **6.4 Segment customers into High, Medium, Low-value groups**"
      ],
      "metadata": {
        "id": "HFQwoP0nD44f"
      }
    },
    {
      "cell_type": "code",
      "source": [],
      "metadata": {
        "id": "mL1qr1Bs-mev"
      },
      "execution_count": null,
      "outputs": []
    },
    {
      "cell_type": "markdown",
      "source": [
        "# 📌 **7. Task 5 : Product Category Analysis**\n",
        "**Description**: Analyze sales and revenue by product category and visualize the top categories by revenue.\n",
        "\n",
        "**Requirments**:\n",
        "-  Extract product category from Description.\n",
        "-  Calculate sales and revenue by category.\n",
        "-  Create a bar plot of the top 5 categories by revenue.\n",
        "\n",
        "**Responsible:**\n"
      ],
      "metadata": {
        "id": "45l4H7GY_O43"
      }
    },
    {
      "cell_type": "markdown",
      "source": [
        "## **7.1 Extract product category from Description.**\n",
        "\n"
      ],
      "metadata": {
        "id": "oRzHsiHfFUTo"
      }
    },
    {
      "cell_type": "code",
      "source": [],
      "metadata": {
        "id": "-LPvTjxLFpRm"
      },
      "execution_count": null,
      "outputs": []
    },
    {
      "cell_type": "markdown",
      "source": [
        "\n",
        "## **7.2 Calculate sales and revenue by category.**\n",
        "\n"
      ],
      "metadata": {
        "id": "xA1TTW3FFUNK"
      }
    },
    {
      "cell_type": "code",
      "source": [],
      "metadata": {
        "id": "M2icJgexFpBe"
      },
      "execution_count": null,
      "outputs": []
    },
    {
      "cell_type": "markdown",
      "source": [
        "\n",
        "## **7.3 Create a bar plot of the top 5 categories by revenue.**\n"
      ],
      "metadata": {
        "id": "NzcDaTnGFUCx"
      }
    },
    {
      "cell_type": "code",
      "source": [],
      "metadata": {
        "id": "UOs9UPgD_PJc"
      },
      "execution_count": null,
      "outputs": []
    },
    {
      "cell_type": "markdown",
      "source": [
        "# 📌 **8. Task 6 : Geographical Analysis**\n",
        "**Description**: Analyze sales distribution by country and identify top revenue-generating countries.\n",
        "\n",
        "**Requirments**:\n",
        "-  Calculate total revenue by country.\n",
        "-  Create a bar plot of the top 10 countries by revenue.\n",
        "-  Calculate the percentage of sales from the top 3 countries.\n",
        "\n",
        "**Responsible:**\n"
      ],
      "metadata": {
        "id": "RPbpzMpA_vWu"
      }
    },
    {
      "cell_type": "markdown",
      "source": [
        "## **8.1 Calculate total revenue by country.**\n"
      ],
      "metadata": {
        "id": "w5icKYkIFvRV"
      }
    },
    {
      "cell_type": "code",
      "source": [],
      "metadata": {
        "id": "VDZJ7c6yF-QT"
      },
      "execution_count": null,
      "outputs": []
    },
    {
      "cell_type": "markdown",
      "source": [
        "\n",
        "## **8.2 Create a bar plot of the top 10 countries by revenue.**\n"
      ],
      "metadata": {
        "id": "Bh5sy0K7FvNn"
      }
    },
    {
      "cell_type": "code",
      "source": [],
      "metadata": {
        "id": "6k2L1f8JF-fW"
      },
      "execution_count": null,
      "outputs": []
    },
    {
      "cell_type": "markdown",
      "source": [
        "## **8.3 Calculate the percentage of sales from the top 3 countries.**"
      ],
      "metadata": {
        "id": "ihiPc54yFvJr"
      }
    },
    {
      "cell_type": "code",
      "source": [],
      "metadata": {
        "id": "Y-LN4rSD_vtE"
      },
      "execution_count": null,
      "outputs": []
    },
    {
      "cell_type": "markdown",
      "source": [
        "# 📌 **9. Task 7 : Customer Behavior Analysis**\n",
        "**Description**: Analyze customer behavior based on order quantity, sales, and purchasing patterns.\n",
        "\n",
        "**Requirments**:\n",
        "-  Plot the distribution of order quantities.\n",
        "-  Create a scatter plot of Quantity vs. TotalPrice.\n",
        "-  Calculate and plot average daily sales throughout the week.\n",
        "\n",
        "**Responsible:**\n"
      ],
      "metadata": {
        "id": "qKkQQ3qw__EH"
      }
    },
    {
      "cell_type": "markdown",
      "source": [
        "## **9.1 Plot the distribution of order quantities.**"
      ],
      "metadata": {
        "id": "cIHAcZMNGFWX"
      }
    },
    {
      "cell_type": "code",
      "source": [],
      "metadata": {
        "id": "fcXeKekjGKpK"
      },
      "execution_count": null,
      "outputs": []
    },
    {
      "cell_type": "markdown",
      "source": [
        "## **9.2 Create a scatter plot of Quantity vs. TotalPrice.**\n"
      ],
      "metadata": {
        "id": "-pAxpr3nGFUG"
      }
    },
    {
      "cell_type": "code",
      "source": [],
      "metadata": {
        "id": "dA2x4DqLGK7T"
      },
      "execution_count": null,
      "outputs": []
    },
    {
      "cell_type": "markdown",
      "source": [
        "## **9.3 Calculate and plot average daily sales throughout the week.**"
      ],
      "metadata": {
        "id": "3YY2EptEGFRg"
      }
    },
    {
      "cell_type": "code",
      "source": [],
      "metadata": {
        "id": "3UsQw-kV_-bI"
      },
      "execution_count": null,
      "outputs": []
    },
    {
      "cell_type": "markdown",
      "source": [
        "# 📌 **10. Task 8 : Moving Average Forecast**\n",
        "**Description**: Implement a basic moving average forecast for sales based on past data.\n",
        "\n",
        "**Requirments**:\n",
        "-  Prepare daily sales data.\n",
        "-  Calculate a 7-day moving average of sales.\n",
        "-  Plot actual sales vs. moving average for the last 3 months.\n",
        "\n",
        "**Responsible:**\n"
      ],
      "metadata": {
        "id": "gzp7qq_jAMhw"
      }
    },
    {
      "cell_type": "markdown",
      "source": [
        "## **10.1 Prepare daily sales data.**\n"
      ],
      "metadata": {
        "id": "_GXvN0pGGrz0"
      }
    },
    {
      "cell_type": "code",
      "source": [],
      "metadata": {
        "id": "Nb6LUlDSGze-"
      },
      "execution_count": null,
      "outputs": []
    },
    {
      "cell_type": "markdown",
      "source": [
        "## **10.2 Calculate a 7-day moving average of sales.**\n"
      ],
      "metadata": {
        "id": "a6CrwY1uGrrt"
      }
    },
    {
      "cell_type": "code",
      "source": [],
      "metadata": {
        "id": "0ynY16FxG7cm"
      },
      "execution_count": null,
      "outputs": []
    },
    {
      "cell_type": "markdown",
      "source": [
        "## **10.3 Plot actual sales vs. moving average for the last 3 months.**"
      ],
      "metadata": {
        "id": "6wk4yHt5Grn0"
      }
    },
    {
      "cell_type": "code",
      "source": [],
      "metadata": {
        "id": "1yhjEZsOAYE3"
      },
      "execution_count": null,
      "outputs": []
    },
    {
      "cell_type": "markdown",
      "source": [
        "# 📌 **11. Task 9 : Summary Dashboard Creation**\n",
        "**Description**: Create a dashboard that summarizes key insights through visualizations.\n",
        "\n",
        "**Requirments**:\n",
        "\n",
        "Create a 2x2 subplot with:\n",
        "  1.   Monthly sales trend\n",
        "  2.   Top 5 products by revenue\n",
        "  3.   Customer segment distribution\n",
        "  4.   Top 5 countries by revenue.\n",
        "\n",
        "**Responsible:**\n"
      ],
      "metadata": {
        "id": "-pwcEt5JAiQw"
      }
    },
    {
      "cell_type": "markdown",
      "source": [
        "## **11.1 Monthly sales trend**\n"
      ],
      "metadata": {
        "id": "DGTIZ0YuGXby"
      }
    },
    {
      "cell_type": "markdown",
      "source": [
        "## **11.2 Top 5 products by revenue**\n"
      ],
      "metadata": {
        "id": "wEPvXox9GXYJ"
      }
    },
    {
      "cell_type": "markdown",
      "source": [
        "## **11.3 Customer segment distribution**\n"
      ],
      "metadata": {
        "id": "yU-l52KQGXQS"
      }
    },
    {
      "cell_type": "markdown",
      "source": [
        "## **11.4 Top 5 countries by revenue.**"
      ],
      "metadata": {
        "id": "wJP9xuavGXLR"
      }
    },
    {
      "cell_type": "code",
      "source": [],
      "metadata": {
        "id": "RATay5wNA496"
      },
      "execution_count": null,
      "outputs": []
    },
    {
      "cell_type": "markdown",
      "source": [
        "# 📌 **12. Task 10 : Optimize Data Processing**\n",
        "**Description**: Optimize a computationally intensive task using vectorized operations.\n",
        "\n",
        "**Requirments**:\n",
        "-  Implement a task using loops.\n",
        "-  Implement the same task using vectorized operations.\n",
        "-  Compare and report performance differences.\n",
        "\n",
        "**Responsible:**\n"
      ],
      "metadata": {
        "id": "N7DfPkcyA58f"
      }
    },
    {
      "cell_type": "markdown",
      "source": [
        "## **12.1 Implement a task using loops.**\n"
      ],
      "metadata": {
        "id": "WvMdxzoMHKxN"
      }
    },
    {
      "cell_type": "code",
      "source": [],
      "metadata": {
        "id": "JSMuaIlMHThy"
      },
      "execution_count": null,
      "outputs": []
    },
    {
      "cell_type": "markdown",
      "source": [
        "## **12.2 Implement the same task using vectorized operations.**\n"
      ],
      "metadata": {
        "id": "5n0Ev_PvHKog"
      }
    },
    {
      "cell_type": "code",
      "source": [],
      "metadata": {
        "id": "LbjD6Zf6HXqI"
      },
      "execution_count": null,
      "outputs": []
    },
    {
      "cell_type": "markdown",
      "source": [
        "## **12.3 Compare and report performance differences.**"
      ],
      "metadata": {
        "id": "pdPGU0sUHKk4"
      }
    },
    {
      "cell_type": "code",
      "source": [],
      "metadata": {
        "id": "6M0ufcaxA6Q7"
      },
      "execution_count": null,
      "outputs": []
    },
    {
      "cell_type": "markdown",
      "source": [
        "# 📌 **13. Task 11 : Report Generation**\n",
        "**Description**: Generate a summary report with key insights and recommendations.\n",
        "\n",
        "**Requirments**:\n",
        "-  Summarize overall revenue, top-selling products, best customer segments, and countries.\n",
        "-  Provide insights from time series analysis and recommendations.\n",
        "\n",
        "\n",
        "**Responsible:**\n"
      ],
      "metadata": {
        "id": "voGEm4gkBVEh"
      }
    },
    {
      "cell_type": "markdown",
      "source": [
        "## **13.1 Summarize overall revenue, top-selling products, best customer segments, and countries.**"
      ],
      "metadata": {
        "id": "DAWKqdVIHdyH"
      }
    },
    {
      "cell_type": "code",
      "source": [],
      "metadata": {
        "id": "fhWMXpWaHk49"
      },
      "execution_count": null,
      "outputs": []
    },
    {
      "cell_type": "markdown",
      "source": [
        "## **13.2 Provide insights from time series analysis and recommendations.**"
      ],
      "metadata": {
        "id": "dTiKDg8pHdvS"
      }
    },
    {
      "cell_type": "code",
      "source": [],
      "metadata": {
        "id": "mF-ey632Bj6k"
      },
      "execution_count": null,
      "outputs": []
    }
  ]
}